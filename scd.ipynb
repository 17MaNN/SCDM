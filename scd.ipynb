{
 "cells": [
  {
   "cell_type": "markdown",
   "metadata": {},
   "source": [
    "**# Step 1: Import Required Libraries:**"
   ]
  },
  {
   "cell_type": "code",
   "execution_count": 1,
   "metadata": {},
   "outputs": [],
   "source": [
    "from transformers import AutoImageProcessor, AutoModelForImageClassification\n",
    "from PIL import Image\n",
    "import requests\n",
    "import os\n",
    "import numpy as np\n",
    "from sklearn.model_selection import train_test_split\n",
    "from tensorflow.keras.preprocessing.image import ImageDataGenerator\n",
    "import torch\n",
    "import tensorflow as tf"
   ]
  },
  {
   "cell_type": "markdown",
   "metadata": {},
   "source": [
    "**# Step 2: Define Paths and Load Metadata**"
   ]
  },
  {
   "cell_type": "code",
   "execution_count": 7,
   "metadata": {},
   "outputs": [],
   "source": [
    "DATA_DIR = r'C:\\Users\\iminy\\OneDrive\\Desktop\\AIML\\SKIN'\n",
    "IMAGE_DIR = os.path.join(DATA_DIR, 'images')\n",
    "CSV_PATH = os.path.join(DATA_DIR, 'GroundTruth.csv')\n",
    "\n",
    "# Load metadata\n",
    "df = pd.read_csv(CSV_PATH)\n",
    "\n",
    "# Map image to image path\n",
    "image_files = os.listdir(IMAGE_DIR)\n",
    "image_dict = {f.split('.')[0]: os.path.join(IMAGE_DIR, f) for f in image_files}\n",
    "df['image_path'] = df['image'].map(image_dict)\n",
    "\n",
    "# Handle missing images\n",
    "df = df.dropna(subset=['image_path'])"
   ]
  },
  {
   "cell_type": "markdown",
   "metadata": {},
   "source": [
    "**# Step 3: Map Diagnosis Columns to Numerical Labels**"
   ]
  },
  {
   "cell_type": "code",
   "execution_count": 8,
   "metadata": {},
   "outputs": [],
   "source": [
    "diagnosis_columns = ['MEL', 'NV', 'BCC', 'AKIEC', 'BKL', 'DF', 'VASC']\n",
    "df['label'] = df[diagnosis_columns].idxmax(axis=1)\n",
    "lesion_type = {\n",
    "    'NV': 0,\n",
    "    'MEL': 1,\n",
    "    'BKL': 2,\n",
    "    'BCC': 3,\n",
    "    'AKIEC': 4,\n",
    "    'DF': 5,\n",
    "    'VASC': 6\n",
    "}\n",
    "df['label'] = df['label'].map(lesion_type)"
   ]
  },
  {
   "cell_type": "markdown",
   "metadata": {},
   "source": [
    "**# Step 4: Split Data into Training, Validation, and Test Sets**"
   ]
  },
  {
   "cell_type": "code",
   "execution_count": 9,
   "metadata": {},
   "outputs": [],
   "source": [
    "train_df, test_df = train_test_split(df, test_size=0.2, random_state=42, stratify=df['label'])\n",
    "train_df, val_df = train_test_split(train_df, test_size=0.25, random_state=42, stratify=train_df['label'])\n",
    "\n",
    "IMG_SIZE = (224, 224)\n",
    "\n",
    "def load_and_preprocess_image(image_path):\n",
    "    img = cv2.imread(image_path)\n",
    "    img = cv2.cvtColor(img, cv2.COLOR_BGR2RGB)\n",
    "    img = cv2.resize(img, IMG_SIZE)\n",
    "    img = img / 255.0\n",
    "    return img\n",
    "\n",
    "# Load and preprocess images\n",
    "train_images = np.array([load_and_preprocess_image(path) for path in train_df['image_path']])\n",
    "val_images = np.array([load_and_preprocess_image(path) for path in val_df['image_path']])\n",
    "test_images = np.array([load_and_preprocess_image(path) for path in test_df['image_path']])\n",
    "\n",
    "train_labels = np.array(train_df['label'])\n",
    "val_labels = np.array(val_df['label'])\n",
    "test_labels = np.array(test_df['label'])\n"
   ]
  },
  {
   "cell_type": "markdown",
   "metadata": {},
   "source": [
    "**# Step 5: Data Augmentation**"
   ]
  },
  {
   "cell_type": "code",
   "execution_count": 10,
   "metadata": {},
   "outputs": [],
   "source": [
    "datagen = ImageDataGenerator(\n",
    "    rotation_range=20,\n",
    "    width_shift_range=0.1,\n",
    "    height_shift_range=0.1,\n",
    "    zoom_range=0.1,\n",
    "    horizontal_flip=True\n",
    ")\n",
    "\n",
    "datagen.fit(train_images)"
   ]
  },
  {
   "cell_type": "markdown",
   "metadata": {},
   "source": [
    "**# Step 6: Load Pre-trained Model**"
   ]
  },
  {
   "cell_type": "code",
   "execution_count": 28,
   "metadata": {},
   "outputs": [
    {
     "name": "stdout",
     "output_type": "stream",
     "text": [
      "Error loading pre-trained model: \n",
      "AutoModelForImageClassification requires the PyTorch library but it was not found in your environment.\n",
      "However, we were able to find a TensorFlow installation. TensorFlow classes begin\n",
      "with \"TF\", but are otherwise identically named to our PyTorch classes. This\n",
      "means that the TF equivalent of the class you tried to import would be \"TFAutoModelForImageClassification\".\n",
      "If you want to use TensorFlow, please use TF classes instead!\n",
      "\n",
      "If you really do want to use PyTorch please go to\n",
      "https://pytorch.org/get-started/locally/ and follow the instructions that\n",
      "match your environment.\n",
      "\n"
     ]
    }
   ],
   "source": [
    "from transformers import AutoImageProcessor, AutoModelForImageClassification\n",
    "import torch\n",
    "\n",
    "try:\n",
    "    processor = AutoImageProcessor.from_pretrained(\"NeuronZero/SkinCancerClassifier\")\n",
    "    model = AutoModelForImageClassification.from_pretrained(\n",
    "        \"NeuronZero/SkinCancerClassifier\",\n",
    "        num_labels=7,\n",
    "        id2label={0: \"NV\", 1: \"MEL\", 2: \"BKL\", 3: \"BCC\", 4: \"AKIEC\", 5: \"DF\", 6: \"VASC\"},\n",
    "        label2id={\"NV\": 0, \"MEL\": 1, \"BKL\": 2, \"BCC\": 3, \"AKIEC\": 4, \"DF\": 5, \"VASC\": 6}\n",
    "    )\n",
    "\n",
    "    # Ensure that the model is in evaluation mode and moved to the correct device (CPU/GPU)\n",
    "    model.eval()\n",
    "    model.to(torch.device(\"cuda\" if torch.cuda.is_available() else \"cpu\"))\n",
    "\n",
    "    print(\"Pre-trained model loaded successfully.\")\n",
    "except Exception as e:\n",
    "    print(f\"Error loading pre-trained model: {e}\")\n"
   ]
  }
 ],
 "metadata": {
  "kernelspec": {
   "display_name": "Python (SCD)",
   "language": "python",
   "name": "scd"
  },
  "language_info": {
   "codemirror_mode": {
    "name": "ipython",
    "version": 3
   },
   "file_extension": ".py",
   "mimetype": "text/x-python",
   "name": "python",
   "nbconvert_exporter": "python",
   "pygments_lexer": "ipython3",
   "version": "3.12.8"
  }
 },
 "nbformat": 4,
 "nbformat_minor": 2
}
